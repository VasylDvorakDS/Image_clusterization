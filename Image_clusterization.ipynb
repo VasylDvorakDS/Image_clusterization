{
 "cells": [
  {
   "cell_type": "code",
   "execution_count": 1,
   "id": "e704bb42",
   "metadata": {},
   "outputs": [],
   "source": [
    "import numpy as np\n",
    "import matplotlib.pyplot as plt\n",
    "import matplotlib.image as mpimg"
   ]
  },
  {
   "cell_type": "code",
   "execution_count": 2,
   "id": "b4bfff72",
   "metadata": {},
   "outputs": [
    {
     "data": {
      "text/plain": [
       "array([[[ 25,  89, 127],\n",
       "        [ 25,  89, 127],\n",
       "        [ 25,  89, 127],\n",
       "        ...,\n",
       "        [ 23,  63,  99],\n",
       "        [ 51,  91, 127],\n",
       "        [ 50,  90, 126]],\n",
       "\n",
       "       [[ 25,  89, 127],\n",
       "        [ 25,  89, 127],\n",
       "        [ 25,  89, 127],\n",
       "        ...,\n",
       "        [ 31,  71, 107],\n",
       "        [ 48,  88, 124],\n",
       "        [ 47,  90, 125]],\n",
       "\n",
       "       [[ 25,  89, 127],\n",
       "        [ 25,  89, 127],\n",
       "        [ 25,  89, 127],\n",
       "        ...,\n",
       "        [ 39,  79, 115],\n",
       "        [ 42,  85, 120],\n",
       "        [ 44,  88, 123]],\n",
       "\n",
       "       ...,\n",
       "\n",
       "       [[  4,   4,   6],\n",
       "        [  4,   4,   6],\n",
       "        [  4,   4,   6],\n",
       "        ...,\n",
       "        [  9,   9,  11],\n",
       "        [  9,   9,  11],\n",
       "        [  9,   9,  11]],\n",
       "\n",
       "       [[  3,   3,   5],\n",
       "        [  3,   3,   5],\n",
       "        [  3,   3,   5],\n",
       "        ...,\n",
       "        [  8,   8,  10],\n",
       "        [  8,   8,  10],\n",
       "        [  8,   8,  10]],\n",
       "\n",
       "       [[  4,   4,   6],\n",
       "        [  4,   4,   6],\n",
       "        [  4,   4,   6],\n",
       "        ...,\n",
       "        [  9,   9,  11],\n",
       "        [ 10,  10,  12],\n",
       "        [ 10,  10,  12]]], dtype=uint8)"
      ]
     },
     "execution_count": 2,
     "metadata": {},
     "output_type": "execute_result"
    }
   ],
   "source": [
    "image_as_array = mpimg.imread('palm_trees.jpg')\n",
    "image_as_array"
   ]
  },
  {
   "cell_type": "code",
   "execution_count": 3,
   "id": "0d5b09fc",
   "metadata": {},
   "outputs": [
    {
     "data": {
      "text/plain": [
       "(1401, 934, 3)"
      ]
     },
     "execution_count": 3,
     "metadata": {},
     "output_type": "execute_result"
    }
   ],
   "source": [
    "image_as_array.shape"
   ]
  },
  {
   "cell_type": "code",
   "execution_count": null,
   "id": "557fe394",
   "metadata": {},
   "outputs": [],
   "source": []
  }
 ],
 "metadata": {
  "kernelspec": {
   "display_name": "Python 3 (ipykernel)",
   "language": "python",
   "name": "python3"
  },
  "language_info": {
   "codemirror_mode": {
    "name": "ipython",
    "version": 3
   },
   "file_extension": ".py",
   "mimetype": "text/x-python",
   "name": "python",
   "nbconvert_exporter": "python",
   "pygments_lexer": "ipython3",
   "version": "3.7.0"
  }
 },
 "nbformat": 4,
 "nbformat_minor": 5
}
